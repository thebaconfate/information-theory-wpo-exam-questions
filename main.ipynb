{
 "cells": [
  {
   "cell_type": "code",
   "execution_count": 1,
   "metadata": {},
   "outputs": [],
   "source": [
    "import math\n",
    "data = (\n",
    "    (\"a\", 0.380, \"1\", \"1\", \"1\", \"1\"),\n",
    "    (\"b\", 0.290, \"00\", \"01\", \"11\", \"01\"),\n",
    "    (\"c\", 0.140, \"010\", \"010\", \"11\", \"001\"),\n",
    "    (\"d\", 0.100, \"0111\", \"0111\", \"010\", \"0000\"),\n",
    "    (\"e\", 0.090, \"0110\", \"0110\", \"011\", \"0001\")\n",
    ")"
   ]
  },
  {
   "cell_type": "code",
   "execution_count": 2,
   "metadata": {},
   "outputs": [],
   "source": [
    "def self_information(probability):\n",
    "    return - math.log(probability, 2)"
   ]
  },
  {
   "cell_type": "code",
   "execution_count": 3,
   "metadata": {},
   "outputs": [
    {
     "name": "stdout",
     "output_type": "stream",
     "text": [
      "Symbol\tSelf information\n",
      "a\t1.3959286763311392\n",
      "b\t1.7858751946471527\n",
      "c\t2.8365012677171206\n",
      "d\t3.321928094887362\n",
      "e\t3.4739311883324127\n"
     ]
    }
   ],
   "source": [
    "print(\"Symbol\\tSelf information\")\n",
    "S_x = map(lambda i: (i[0], self_information(i[1])), data)\n",
    "for i in S_x:\n",
    "    print(f\"{i[0]}\\t{i[1]}\")"
   ]
  },
  {
   "cell_type": "code",
   "execution_count": 4,
   "metadata": {},
   "outputs": [],
   "source": [
    "def entropy(items):\n",
    "    return sum(map(lambda i: i[1] * self_information(i[1]), items))"
   ]
  },
  {
   "cell_type": "code",
   "execution_count": 5,
   "metadata": {},
   "outputs": [
    {
     "name": "stdout",
     "output_type": "stream",
     "text": [
      "Entropy: 2.0903134973725574 bit/symbol\n"
     ]
    }
   ],
   "source": [
    "H_x = entropy(data)\n",
    "print(f\"Entropy: {H_x} bit/symbol\")"
   ]
  },
  {
   "cell_type": "code",
   "execution_count": 16,
   "metadata": {},
   "outputs": [],
   "source": [
    "def average_length(items):\n",
    "    probability_and_encoding_lengths = list(\n",
    "        map(\n",
    "            lambda i: (\n",
    "                i[1],\n",
    "                len(i[2]),\n",
    "                len(i[3]),\n",
    "                len(i[4]),\n",
    "                len(i[5]),\n",
    "            ),\n",
    "            items,\n",
    "        )\n",
    "    )\n",
    "    result = []\n",
    "    for code_idx in range(len(probability_and_encoding_lengths[1:])):\n",
    "        r = map(lambda i: i[0] * i[code_idx + 1], probability_and_encoding_lengths)\n",
    "        result.append((f\"code{code_idx + 1}\", sum(r)))\n",
    "    return result"
   ]
  },
  {
   "cell_type": "code",
   "execution_count": 17,
   "metadata": {},
   "outputs": [
    {
     "name": "stdout",
     "output_type": "stream",
     "text": [
      "Code\tAverage length\n",
      "code1\t2.14\n",
      "code2\t2.14\n",
      "code3\t1.81\n",
      "code4\t2.14\n"
     ]
    }
   ],
   "source": [
    "L = average_length(data)\n",
    "print(f\"Code\\tAverage length\")\n",
    "for i in L:\n",
    "    print(f\"{i[0]}\\t{i[1]}\")"
   ]
  },
  {
   "cell_type": "code",
   "execution_count": 8,
   "metadata": {},
   "outputs": [],
   "source": [
    "def efficiency(Hx, Lavg):\n",
    "    return list(map(lambda i: (i[0], Hx / i[1]), Lavg))"
   ]
  },
  {
   "cell_type": "code",
   "execution_count": 9,
   "metadata": {},
   "outputs": [
    {
     "name": "stdout",
     "output_type": "stream",
     "text": [
      "Code\t Efficiency\n",
      "code1\t0.9767820081180174\n",
      "code2\t0.9767820081180174\n",
      "code3\t1.1548693355649489\n",
      "code4\t0.9767820081180174\n"
     ]
    }
   ],
   "source": [
    "N = efficiency(H_x, L)\n",
    "print(\"Code\\t Efficiency\")\n",
    "for i in N:\n",
    "    print(f\"{i[0]}\\t{i[1]}\")\n",
    "\n",
    "# You seem to be using less bits than the entropy for code3, \n",
    "# which means there's more combinations per encoding and\n",
    "# consequently means you can't decode code 3."
   ]
  },
  {
   "cell_type": "code",
   "execution_count": 10,
   "metadata": {},
   "outputs": [],
   "source": [
    "def prefix_codes(data):\n",
    "    codes_per_code = []\n",
    "    for i in range(2, len(data[0])):\n",
    "        tmp = []\n",
    "        for j in data:\n",
    "            tmp.append(j[i])\n",
    "        codes_per_code.append(tmp)\n",
    "    result = []\n",
    "    for idx, codes in enumerate(codes_per_code):\n",
    "        prefix_code = True\n",
    "        for code in codes:\n",
    "            rest = [c for c in codes if code != c]\n",
    "            for other_code in rest:\n",
    "                if other_code.startswith(code):\n",
    "                    prefix_code = False\n",
    "                    break\n",
    "            if not prefix_code:\n",
    "                break\n",
    "        result.append((f\"code{idx + 1}\", prefix_code))\n",
    "    return result        "
   ]
  },
  {
   "cell_type": "code",
   "execution_count": 11,
   "metadata": {},
   "outputs": [
    {
     "name": "stdout",
     "output_type": "stream",
     "text": [
      "Code\tPrefix code?\n",
      "code1\tTrue\n",
      "code2\tFalse\n",
      "code3\tFalse\n",
      "code4\tTrue\n"
     ]
    }
   ],
   "source": [
    "prefix_free = prefix_codes(data)\n",
    "print(\"Code\\tPrefix code?\")\n",
    "for i in prefix_free:\n",
    "    print(f\"{i[0]}\\t{i[1]}\")"
   ]
  },
  {
   "cell_type": "code",
   "execution_count": 12,
   "metadata": {},
   "outputs": [],
   "source": [
    "def code_lengths_shannon(data):\n",
    "    return list(map(lambda el: (el[0], f\"{math.ceil(- math.log(el[1], 2))} bits\"), data))"
   ]
  },
  {
   "cell_type": "code",
   "execution_count": 13,
   "metadata": {},
   "outputs": [
    {
     "name": "stdout",
     "output_type": "stream",
     "text": [
      "Symbol\tLength\n",
      "a\t2 bits\n",
      "b\t2 bits\n",
      "c\t3 bits\n",
      "d\t4 bits\n",
      "e\t4 bits\n"
     ]
    }
   ],
   "source": [
    "CL = code_lengths_shannon(data)\n",
    "print(\"Symbol\\tLength\")\n",
    "for t in CL:\n",
    "    print(f\"{t[0]}\\t{t[1]}\")"
   ]
  },
  {
   "cell_type": "code",
   "execution_count": 14,
   "metadata": {},
   "outputs": [],
   "source": [
    "# H(X) <= Lavg < H(X) + 1\n",
    "\n",
    "def check_shannon():\n",
    "    return list(map(lambda tup: (tup[0],H_x <= tup[1] < H_x + 1),L))"
   ]
  },
  {
   "cell_type": "code",
   "execution_count": 15,
   "metadata": {},
   "outputs": [
    {
     "name": "stdout",
     "output_type": "stream",
     "text": [
      "Code\tMeets requirements?\n",
      "code1\tTrue\n",
      "code2\tTrue\n",
      "code3\tFalse\n",
      "code4\tTrue\n"
     ]
    }
   ],
   "source": [
    "Sh = check_shannon()\n",
    "print(\"Code\\tMeets requirements?\")\n",
    "for i in Sh:\n",
    "    print(f\"{i[0]}\\t{i[1]}\")"
   ]
 ],
 "metadata": {
  "kernelspec": {
   "display_name": "Python 3 (ipykernel)",
   "language": "python",
   "name": "python3"
  },
  "language_info": {
   "codemirror_mode": {
    "name": "ipython",
    "version": 3
   },
   "file_extension": ".py",
   "mimetype": "text/x-python",
   "name": "python",
   "nbconvert_exporter": "python",
   "pygments_lexer": "ipython3",
   "version": "3.13.1"
  }
 },
 "nbformat": 4,
 "nbformat_minor": 4
}
