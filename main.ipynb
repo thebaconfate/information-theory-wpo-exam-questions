{
 "cells": [
  {
   "cell_type": "code",
   "execution_count": 59,
   "metadata": {},
   "outputs": [],
   "source": [
    "import math\n",
    "data = (\n",
    "    (\"a\", 0.380, \"1\", \"1\", \"1\", \"1\"),\n",
    "    (\"b\", 0.290, \"00\", \"01\", \"11\", \"01\"),\n",
    "    (\"c\", 0.140, \"010\", \"010\", \"11\", \"001\"),\n",
    "    (\"d\", 0.100, \"0111\", \"0111\", \"010\", \"0000\"),\n",
    "    (\"e\", 0.090, \"0110\", \"0110\", \"011\", \"0001\")\n",
    ")"
   ]
  },
  {
   "cell_type": "code",
   "execution_count": 60,
   "metadata": {},
   "outputs": [],
   "source": [
    "def self_information(probability):\n",
    "    return - math.log(probability, 2)"
   ]
  },
  {
   "cell_type": "code",
   "execution_count": 61,
   "metadata": {},
   "outputs": [
    {
     "name": "stdout",
     "output_type": "stream",
     "text": [
      "1.0\n"
     ]
    }
   ],
   "source": [
    "print(sum(map(lambda x: x[1], data)))"
   ]
  },
  {
   "cell_type": "code",
   "execution_count": 62,
   "metadata": {},
   "outputs": [
    {
     "name": "stdout",
     "output_type": "stream",
     "text": [
      "Self information\n",
      "a: 1.3959286763311392\n",
      "b: 1.7858751946471527\n",
      "c: 2.8365012677171206\n",
      "d: 3.321928094887362\n",
      "e: 3.4739311883324127\n"
     ]
    }
   ],
   "source": [
    "print(\"Self information\")\n",
    "S_x = map(lambda item: (item[0], self_information(item[1])), data)\n",
    "for item in S_x:\n",
    "    print(f\"{item[0]}: {item[1]}\")"
   ]
  },
  {
   "cell_type": "code",
   "execution_count": 63,
   "metadata": {},
   "outputs": [],
   "source": [
    "def entropy(items):\n",
    "    return sum(map(lambda item: item[1] * self_information(item[1]), items))"
   ]
  },
  {
   "cell_type": "code",
   "execution_count": 87,
   "metadata": {},
   "outputs": [
    {
     "name": "stdout",
     "output_type": "stream",
     "text": [
      "Entropy: 2.0903134973725574 bit/symbol\n"
     ]
    }
   ],
   "source": [
    "H_x = entropy(data)\n",
    "print(f\"Entropy: {H_x} bit/symbol\")"
   ]
  },
  {
   "cell_type": "code",
   "execution_count": 65,
   "metadata": {},
   "outputs": [],
   "source": [
    "def average_length(items):\n",
    "    probability_and_encoding_lengths = list(\n",
    "        map(\n",
    "            lambda item: (\n",
    "                item[1],\n",
    "                len(item[2]),\n",
    "                len(item[3]),\n",
    "                len(item[4]),\n",
    "                len(item[5]),\n",
    "            ),\n",
    "            items,\n",
    "        )\n",
    "    )\n",
    "    print(f\"intermediate results {probability_and_encoding_lengths}\")\n",
    "    result = []\n",
    "    for i in range(len(probability_and_encoding_lengths[1:])):\n",
    "        r = map(lambda item: item[0] * item[i + 1], probability_and_encoding_lengths)\n",
    "        result.append(sum(r))\n",
    "    return result"
   ]
  },
  {
   "cell_type": "code",
   "execution_count": 66,
   "metadata": {},
   "outputs": [
    {
     "name": "stdout",
     "output_type": "stream",
     "text": [
      "[(0.38, 1, 1, 1, 1), (0.29, 2, 2, 2, 2), (0.14, 3, 3, 2, 3), (0.1, 4, 4, 3, 4), (0.09, 4, 4, 3, 4)]\n",
      "average lengths [2.14, 2.14, 1.81, 2.14]\n"
     ]
    }
   ],
   "source": [
    "L = average_length(data)\n",
    "print(f\"average lengths {L}\")"
   ]
  },
  {
   "cell_type": "code",
   "execution_count": 67,
   "metadata": {},
   "outputs": [],
   "source": [
    "def efficiency(Hx, Lavg):\n",
    "    return list(map(lambda el: Hx / el, Lavg))"
   ]
  },
  {
   "cell_type": "code",
   "execution_count": 68,
   "metadata": {},
   "outputs": [
    {
     "name": "stdout",
     "output_type": "stream",
     "text": [
      "efficiency: [0.9767820081180174, 0.9767820081180174, 1.1548693355649489, 0.9767820081180174]\n"
     ]
    }
   ],
   "source": [
    "N = efficiency(H_x, L)\n",
    "print(f\"efficiency: {N}\")\n",
    "\n",
    "# You seem to be using less bits than the entropy for code3"
   ]
  },
  {
   "cell_type": "code",
   "execution_count": 85,
   "metadata": {},
   "outputs": [],
   "source": [
    "def code_lengths_shannon(data):\n",
    "    return list(map(lambda el: (el[0], f\"{math.ceil(- math.log(el[1], 2))} bits\"), data))\n",
    "    "
   ]
  },
  {
   "cell_type": "code",
   "execution_count": 88,
   "metadata": {},
   "outputs": [
    {
     "name": "stdout",
     "output_type": "stream",
     "text": [
      "code lengths: [('a', '2 bits'), ('b', '2 bits'), ('c', '3 bits'), ('d', '4 bits'), ('e', '4 bits')]\n"
     ]
    }
   ],
   "source": [
    "CL = code_lengths_shannon(data)\n",
    "print(f\"code lengths: {CL}\")"
   ]
  },
  {
   "cell_type": "code",
   "execution_count": 90,
   "metadata": {},
   "outputs": [
    {
     "name": "stdout",
     "output_type": "stream",
     "text": [
      "[('a', 0.38, '1', '1'), ('b', 0.29, '00', '01'), ('c', 0.14, '010', '001'), ('d', 0.1, '0111', '0000'), ('e', 0.09, '0110', '0001')]\n"
     ]
    }
   ],
   "source": [
    "data_prefix_free = list(map(lambda el: (el[0], el[1], el[2], el[5]), data))\n",
    "print(data_prefix_free)"
   ]
  },
  {
   "cell_type": "code",
   "execution_count": 99,
   "metadata": {},
   "outputs": [],
   "source": [
    "# H(X) <= Lavg < H(X) + 1\n",
    "\n",
    "def check_shannon(idx_prefix_free=True):\n",
    "    return list(map(lambda tup: (idx_prefix_free or tup[0] in idx_prefix_free) and H_x <= tup[1] < H_x + 1, enumerate(L)))\n"
   ]
  },
  {
   "cell_type": "code",
   "execution_count": 100,
   "metadata": {},
   "outputs": [
    {
     "name": "stdout",
     "output_type": "stream",
     "text": [
      "[True, True, False, True]\n"
     ]
    }
   ],
   "source": [
    "Sh = check_shannon()\n",
    "print(Sh)"
   ]
  }
 ],
 "metadata": {
  "kernelspec": {
   "display_name": "jan-TJTbifr8-py3.13",
   "language": "python",
   "name": "python3"
  },
  "language_info": {
   "codemirror_mode": {
    "name": "ipython",
    "version": 3
   },
   "file_extension": ".py",
   "mimetype": "text/x-python",
   "name": "python",
   "nbconvert_exporter": "python",
   "pygments_lexer": "ipython3",
   "version": "3.13.1"
  }
 },
 "nbformat": 4,
 "nbformat_minor": 2
}
